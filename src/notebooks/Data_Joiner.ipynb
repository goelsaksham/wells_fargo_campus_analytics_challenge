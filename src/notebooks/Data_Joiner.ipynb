{
 "cells": [
  {
   "cell_type": "markdown",
   "metadata": {},
   "source": [
    "# Data Joiner\n",
    "\n",
    "This notebook is responsible to join the two data tables - Indvidual Carbon Footprints and Carbon Footprint of each resource together so that a better data frame can be produced which can be used for further analysis"
   ]
  },
  {
   "cell_type": "markdown",
   "metadata": {},
   "source": [
    "### Section 1 - Importing Required Libraries\n",
    "\n",
    "Importing the required libraries to join the two datasets"
   ]
  },
  {
   "cell_type": "code",
   "execution_count": 1,
   "metadata": {},
   "outputs": [],
   "source": [
    "import pandas as pd\n",
    "import numpy as np"
   ]
  },
  {
   "cell_type": "markdown",
   "metadata": {},
   "source": [
    "### Section 2 - Loading the data\n",
    "\n",
    "This section is responsible to load data from two different csv files containing data about individuals activity and the carbon footprint of each and every resource type used with respect to an activity performed by the individual"
   ]
  },
  {
   "cell_type": "code",
   "execution_count": 2,
   "metadata": {},
   "outputs": [],
   "source": [
    "individual_df = pd.read_csv(r'../../data/output_data/Individuals_Carbon_Footprint_NA_Dropped.csv')\n",
    "carbon_fp_df = pd.read_csv(r'../../data/output_data/Resources_Carbon_Footprint_NA_Dropped.csv')"
   ]
  },
  {
   "cell_type": "code",
   "execution_count": 3,
   "metadata": {},
   "outputs": [
    {
     "data": {
      "text/html": [
       "<div>\n",
       "<style scoped>\n",
       "    .dataframe tbody tr th:only-of-type {\n",
       "        vertical-align: middle;\n",
       "    }\n",
       "\n",
       "    .dataframe tbody tr th {\n",
       "        vertical-align: top;\n",
       "    }\n",
       "\n",
       "    .dataframe thead th {\n",
       "        text-align: right;\n",
       "    }\n",
       "</style>\n",
       "<table border=\"1\" class=\"dataframe\">\n",
       "  <thead>\n",
       "    <tr style=\"text-align: right;\">\n",
       "      <th></th>\n",
       "      <th>Indnum</th>\n",
       "      <th>Group</th>\n",
       "      <th>Activity</th>\n",
       "      <th>Units</th>\n",
       "      <th>Consumption</th>\n",
       "      <th>Quality_of_Life_Importance__1_10</th>\n",
       "      <th>Name of Resource Used</th>\n",
       "      <th>Amount of Resource Used per Unit</th>\n",
       "    </tr>\n",
       "  </thead>\n",
       "  <tbody>\n",
       "    <tr>\n",
       "      <th>0</th>\n",
       "      <td>1</td>\n",
       "      <td>1</td>\n",
       "      <td>Household heating &lt; 70F</td>\n",
       "      <td>hours</td>\n",
       "      <td>10.0</td>\n",
       "      <td>85.0</td>\n",
       "      <td>solar_powered__water_heater</td>\n",
       "      <td>1.0</td>\n",
       "    </tr>\n",
       "    <tr>\n",
       "      <th>1</th>\n",
       "      <td>2</td>\n",
       "      <td>2</td>\n",
       "      <td>wash-up</td>\n",
       "      <td>count</td>\n",
       "      <td>44.0</td>\n",
       "      <td>34.0</td>\n",
       "      <td>solar_powered__water_heater</td>\n",
       "      <td>1.0</td>\n",
       "    </tr>\n",
       "    <tr>\n",
       "      <th>2</th>\n",
       "      <td>3</td>\n",
       "      <td>2</td>\n",
       "      <td>shower - long (&gt; 3 min)</td>\n",
       "      <td>count</td>\n",
       "      <td>40.0</td>\n",
       "      <td>85.0</td>\n",
       "      <td>solar_powered__water_heater</td>\n",
       "      <td>1.0</td>\n",
       "    </tr>\n",
       "    <tr>\n",
       "      <th>3</th>\n",
       "      <td>3</td>\n",
       "      <td>2</td>\n",
       "      <td>wash-up</td>\n",
       "      <td>count</td>\n",
       "      <td>45.0</td>\n",
       "      <td>27.0</td>\n",
       "      <td>solar_powered__water_heater</td>\n",
       "      <td>1.0</td>\n",
       "    </tr>\n",
       "    <tr>\n",
       "      <th>4</th>\n",
       "      <td>5</td>\n",
       "      <td>3</td>\n",
       "      <td>use of clothes washer</td>\n",
       "      <td>count</td>\n",
       "      <td>7.0</td>\n",
       "      <td>41.0</td>\n",
       "      <td>solar_powered__water_heater</td>\n",
       "      <td>1.0</td>\n",
       "    </tr>\n",
       "  </tbody>\n",
       "</table>\n",
       "</div>"
      ],
      "text/plain": [
       "   Indnum  Group                 Activity  Units  Consumption  \\\n",
       "0       1      1  Household heating < 70F  hours         10.0   \n",
       "1       2      2                  wash-up  count         44.0   \n",
       "2       3      2  shower - long (> 3 min)  count         40.0   \n",
       "3       3      2                  wash-up  count         45.0   \n",
       "4       5      3    use of clothes washer  count          7.0   \n",
       "\n",
       "   Quality_of_Life_Importance__1_10        Name of Resource Used  \\\n",
       "0                              85.0  solar_powered__water_heater   \n",
       "1                              34.0  solar_powered__water_heater   \n",
       "2                              85.0  solar_powered__water_heater   \n",
       "3                              27.0  solar_powered__water_heater   \n",
       "4                              41.0  solar_powered__water_heater   \n",
       "\n",
       "   Amount of Resource Used per Unit  \n",
       "0                               1.0  \n",
       "1                               1.0  \n",
       "2                               1.0  \n",
       "3                               1.0  \n",
       "4                               1.0  "
      ]
     },
     "execution_count": 3,
     "metadata": {},
     "output_type": "execute_result"
    }
   ],
   "source": [
    "individual_df.head()"
   ]
  },
  {
   "cell_type": "code",
   "execution_count": 4,
   "metadata": {},
   "outputs": [
    {
     "data": {
      "text/html": [
       "<div>\n",
       "<style scoped>\n",
       "    .dataframe tbody tr th:only-of-type {\n",
       "        vertical-align: middle;\n",
       "    }\n",
       "\n",
       "    .dataframe tbody tr th {\n",
       "        vertical-align: top;\n",
       "    }\n",
       "\n",
       "    .dataframe thead th {\n",
       "        text-align: right;\n",
       "    }\n",
       "</style>\n",
       "<table border=\"1\" class=\"dataframe\">\n",
       "  <thead>\n",
       "    <tr style=\"text-align: right;\">\n",
       "      <th></th>\n",
       "      <th>Activity</th>\n",
       "      <th>Per</th>\n",
       "      <th>Name of Resource Used</th>\n",
       "      <th>Carbon Footprint of Resource per Unit</th>\n",
       "    </tr>\n",
       "  </thead>\n",
       "  <tbody>\n",
       "    <tr>\n",
       "      <th>0</th>\n",
       "      <td>shower - short</td>\n",
       "      <td>activity</td>\n",
       "      <td>solar powered  water heater</td>\n",
       "      <td>0.000012</td>\n",
       "    </tr>\n",
       "    <tr>\n",
       "      <th>1</th>\n",
       "      <td>shower - long (&gt; 3 min)</td>\n",
       "      <td>activity</td>\n",
       "      <td>solar powered  water heater</td>\n",
       "      <td>0.000017</td>\n",
       "    </tr>\n",
       "    <tr>\n",
       "      <th>2</th>\n",
       "      <td>bath</td>\n",
       "      <td>activity</td>\n",
       "      <td>solar powered  water heater</td>\n",
       "      <td>0.000088</td>\n",
       "    </tr>\n",
       "    <tr>\n",
       "      <th>3</th>\n",
       "      <td>wash-up</td>\n",
       "      <td>activity</td>\n",
       "      <td>solar powered  water heater</td>\n",
       "      <td>0.000004</td>\n",
       "    </tr>\n",
       "    <tr>\n",
       "      <th>4</th>\n",
       "      <td>use of dishwasher</td>\n",
       "      <td>activity</td>\n",
       "      <td>solar powered  water heater</td>\n",
       "      <td>0.000025</td>\n",
       "    </tr>\n",
       "  </tbody>\n",
       "</table>\n",
       "</div>"
      ],
      "text/plain": [
       "                  Activity       Per        Name of Resource Used  \\\n",
       "0           shower - short  activity  solar powered  water heater   \n",
       "1  shower - long (> 3 min)  activity  solar powered  water heater   \n",
       "2                     bath  activity  solar powered  water heater   \n",
       "3                  wash-up  activity  solar powered  water heater   \n",
       "4        use of dishwasher  activity  solar powered  water heater   \n",
       "\n",
       "   Carbon Footprint of Resource per Unit  \n",
       "0                               0.000012  \n",
       "1                               0.000017  \n",
       "2                               0.000088  \n",
       "3                               0.000004  \n",
       "4                               0.000025  "
      ]
     },
     "execution_count": 4,
     "metadata": {},
     "output_type": "execute_result"
    }
   ],
   "source": [
    "carbon_fp_df.head()"
   ]
  },
  {
   "cell_type": "markdown",
   "metadata": {},
   "source": [
    "### Section 3 - Column Name Standardization\n",
    "\n",
    "This section is responsible to change the column names of the dataframes so that they have the same names, without any inconsistencies. This will help in efficient join, while minimizing the redundancy."
   ]
  },
  {
   "cell_type": "code",
   "execution_count": 15,
   "metadata": {},
   "outputs": [],
   "source": [
    "# Import regex library to apply the string manipulation functions on each and every column\n",
    "import re"
   ]
  },
  {
   "cell_type": "code",
   "execution_count": 16,
   "metadata": {},
   "outputs": [],
   "source": [
    "indiv_column_names = individual_df.columns.values\n",
    "carbon_fp_column_names = carbon_fp_df.columns.values"
   ]
  },
  {
   "cell_type": "code",
   "execution_count": 17,
   "metadata": {},
   "outputs": [
    {
     "data": {
      "text/plain": [
       "array(['Indnum', 'Group', 'Activity', 'Units', 'Consumption',\n",
       "       'Quality_of_Life_Importance__1_10', 'Name of Resource Used',\n",
       "       'Amount of Resource Used per Unit'], dtype=object)"
      ]
     },
     "execution_count": 17,
     "metadata": {},
     "output_type": "execute_result"
    }
   ],
   "source": [
    "indiv_column_names"
   ]
  },
  {
   "cell_type": "code",
   "execution_count": 18,
   "metadata": {},
   "outputs": [
    {
     "data": {
      "text/plain": [
       "array(['Activity', 'Per', 'Name of Resource Used',\n",
       "       'Carbon Footprint of Resource per Unit'], dtype=object)"
      ]
     },
     "execution_count": 18,
     "metadata": {},
     "output_type": "execute_result"
    }
   ],
   "source": [
    "carbon_fp_column_names"
   ]
  },
  {
   "cell_type": "code",
   "execution_count": 71,
   "metadata": {},
   "outputs": [],
   "source": [
    "def column_names_standardizer(column_name):\n",
    "    return re.sub('_+', '_', re.sub('\\s+', '_', column_name.lower()))\n",
    "\n",
    "column_names_standardizer_vfunc = np.vectorize(column_names_standardizer)"
   ]
  },
  {
   "cell_type": "code",
   "execution_count": 72,
   "metadata": {},
   "outputs": [
    {
     "data": {
      "text/plain": [
       "array(['indnum', 'group', 'activity', 'units', 'consumption',\n",
       "       'quality_of_life_importance_1_10', 'name_of_resource_used',\n",
       "       'amount_of_resource_used_per_unit'], dtype='<U32')"
      ]
     },
     "execution_count": 72,
     "metadata": {},
     "output_type": "execute_result"
    }
   ],
   "source": [
    "column_names_standardizer_vfunc(indiv_column_names)"
   ]
  },
  {
   "cell_type": "code",
   "execution_count": 73,
   "metadata": {},
   "outputs": [
    {
     "data": {
      "text/plain": [
       "array(['activity', 'per', 'name_of_resource_used',\n",
       "       'carbon_footprint_of_resource_per_unit'], dtype='<U37')"
      ]
     },
     "execution_count": 73,
     "metadata": {},
     "output_type": "execute_result"
    }
   ],
   "source": [
    "column_names_standardizer_vfunc(carbon_fp_column_names)"
   ]
  },
  {
   "cell_type": "code",
   "execution_count": null,
   "metadata": {},
   "outputs": [],
   "source": []
  },
  {
   "cell_type": "code",
   "execution_count": null,
   "metadata": {},
   "outputs": [],
   "source": []
  },
  {
   "cell_type": "code",
   "execution_count": null,
   "metadata": {},
   "outputs": [],
   "source": []
  }
 ],
 "metadata": {
  "kernelspec": {
   "display_name": "Python 3",
   "language": "python",
   "name": "python3"
  },
  "language_info": {
   "codemirror_mode": {
    "name": "ipython",
    "version": 3
   },
   "file_extension": ".py",
   "mimetype": "text/x-python",
   "name": "python",
   "nbconvert_exporter": "python",
   "pygments_lexer": "ipython3",
   "version": "3.6.4"
  }
 },
 "nbformat": 4,
 "nbformat_minor": 2
}
