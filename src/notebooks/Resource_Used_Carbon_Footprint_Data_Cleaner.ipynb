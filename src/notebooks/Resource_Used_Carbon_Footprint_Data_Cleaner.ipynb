{
 "cells": [
  {
   "cell_type": "markdown",
   "metadata": {},
   "source": [
    "# Type of Resource Used Carbon Footprint Data Cleaner\n",
    "\n",
    "This notebook is used to load data from the spreadsheet containing the data about the carboon footprints of each type of resource used per activity from the given .xlsx data file given as part of the Wells Fargo Campus Analytics Challenge."
   ]
  },
  {
   "cell_type": "markdown",
   "metadata": {},
   "source": [
    "### Section 1: Importing the required libraries\n",
    "\n",
    "Import the required libraries for loading and augmenting the dataset"
   ]
  },
  {
   "cell_type": "code",
   "execution_count": 1,
   "metadata": {},
   "outputs": [],
   "source": [
    "import pandas as pd\n",
    "import numpy as np"
   ]
  },
  {
   "cell_type": "markdown",
   "metadata": {},
   "source": [
    "### Section 2: Loading the Data\n",
    "\n",
    "First we will load the data from the first spreadsheet ('Individuals') from given .xlsx file ('Data+campus_challenge_FINAL.xlsx') into a dataframe."
   ]
  },
  {
   "cell_type": "code",
   "execution_count": 6,
   "metadata": {},
   "outputs": [],
   "source": [
    "# Loading the dataset into a dataframe\n",
    "res_carbon_footprint_df = pd.read_excel(r'../../data/input_data/Data+campus_challenge_FINAL.xlsx', sheet_name='Carbon Footprint', \n",
    "                                        skiprows=1, index_col = 0)"
   ]
  },
  {
   "cell_type": "code",
   "execution_count": 7,
   "metadata": {},
   "outputs": [
    {
     "data": {
      "text/html": [
       "<div>\n",
       "<style scoped>\n",
       "    .dataframe tbody tr th:only-of-type {\n",
       "        vertical-align: middle;\n",
       "    }\n",
       "\n",
       "    .dataframe tbody tr th {\n",
       "        vertical-align: top;\n",
       "    }\n",
       "\n",
       "    .dataframe thead th {\n",
       "        text-align: right;\n",
       "    }\n",
       "</style>\n",
       "<table border=\"1\" class=\"dataframe\">\n",
       "  <thead>\n",
       "    <tr style=\"text-align: right;\">\n",
       "      <th></th>\n",
       "      <th>Activity</th>\n",
       "      <th>Per</th>\n",
       "      <th>solar powered  water heater</th>\n",
       "      <th>gas water heater</th>\n",
       "      <th>electric water heater - peak hours</th>\n",
       "      <th>electric water heater - off peak hours</th>\n",
       "      <th>gas</th>\n",
       "      <th>natural gas</th>\n",
       "      <th>Jet Fuel</th>\n",
       "      <th>waste management</th>\n",
       "      <th>hybrid</th>\n",
       "      <th>electric - peak hours</th>\n",
       "      <th>electric - off peak hours</th>\n",
       "      <th>Unnamed: 14</th>\n",
       "      <th>Notes</th>\n",
       "    </tr>\n",
       "  </thead>\n",
       "  <tbody>\n",
       "    <tr>\n",
       "      <th>1</th>\n",
       "      <td>Household heating =&gt; 70F</td>\n",
       "      <td>hour</td>\n",
       "      <td>NaN</td>\n",
       "      <td>NaN</td>\n",
       "      <td>NaN</td>\n",
       "      <td>NaN</td>\n",
       "      <td>NaN</td>\n",
       "      <td>0.000436</td>\n",
       "      <td>NaN</td>\n",
       "      <td>NaN</td>\n",
       "      <td>NaN</td>\n",
       "      <td>0.000650</td>\n",
       "      <td>0.000542</td>\n",
       "      <td>NaN</td>\n",
       "      <td>NaN</td>\n",
       "    </tr>\n",
       "    <tr>\n",
       "      <th>2</th>\n",
       "      <td>Household heating &lt; 70F</td>\n",
       "      <td>hour</td>\n",
       "      <td>NaN</td>\n",
       "      <td>NaN</td>\n",
       "      <td>NaN</td>\n",
       "      <td>NaN</td>\n",
       "      <td>NaN</td>\n",
       "      <td>0.000872</td>\n",
       "      <td>NaN</td>\n",
       "      <td>NaN</td>\n",
       "      <td>NaN</td>\n",
       "      <td>0.000923</td>\n",
       "      <td>0.000901</td>\n",
       "      <td>NaN</td>\n",
       "      <td>NaN</td>\n",
       "    </tr>\n",
       "    <tr>\n",
       "      <th>3</th>\n",
       "      <td>Use of heat pump</td>\n",
       "      <td>hour</td>\n",
       "      <td>NaN</td>\n",
       "      <td>NaN</td>\n",
       "      <td>NaN</td>\n",
       "      <td>NaN</td>\n",
       "      <td>NaN</td>\n",
       "      <td>0.001074</td>\n",
       "      <td>NaN</td>\n",
       "      <td>NaN</td>\n",
       "      <td>NaN</td>\n",
       "      <td>0.001229</td>\n",
       "      <td>0.001188</td>\n",
       "      <td>NaN</td>\n",
       "      <td>NaN</td>\n",
       "    </tr>\n",
       "    <tr>\n",
       "      <th>4</th>\n",
       "      <td>Use of air conditioner</td>\n",
       "      <td>hour</td>\n",
       "      <td>NaN</td>\n",
       "      <td>NaN</td>\n",
       "      <td>NaN</td>\n",
       "      <td>NaN</td>\n",
       "      <td>NaN</td>\n",
       "      <td>0.000598</td>\n",
       "      <td>NaN</td>\n",
       "      <td>NaN</td>\n",
       "      <td>NaN</td>\n",
       "      <td>0.007980</td>\n",
       "      <td>0.000721</td>\n",
       "      <td>NaN</td>\n",
       "      <td>NaN</td>\n",
       "    </tr>\n",
       "    <tr>\n",
       "      <th>5</th>\n",
       "      <td>shower - short</td>\n",
       "      <td>activity</td>\n",
       "      <td>0.000012</td>\n",
       "      <td>0.000102</td>\n",
       "      <td>0.000232</td>\n",
       "      <td>0.000199</td>\n",
       "      <td>NaN</td>\n",
       "      <td>NaN</td>\n",
       "      <td>NaN</td>\n",
       "      <td>NaN</td>\n",
       "      <td>NaN</td>\n",
       "      <td>NaN</td>\n",
       "      <td>NaN</td>\n",
       "      <td>NaN</td>\n",
       "      <td>NaN</td>\n",
       "    </tr>\n",
       "  </tbody>\n",
       "</table>\n",
       "</div>"
      ],
      "text/plain": [
       "                   Activity       Per  solar powered  water heater  \\\n",
       "1  Household heating => 70F     hour                           NaN   \n",
       "2   Household heating < 70F     hour                           NaN   \n",
       "3          Use of heat pump     hour                           NaN   \n",
       "4   Use of air conditioner      hour                           NaN   \n",
       "5            shower - short  activity                     0.000012   \n",
       "\n",
       "   gas water heater  electric water heater - peak hours  \\\n",
       "1               NaN                                 NaN   \n",
       "2               NaN                                 NaN   \n",
       "3               NaN                                 NaN   \n",
       "4               NaN                                 NaN   \n",
       "5          0.000102                            0.000232   \n",
       "\n",
       "   electric water heater - off peak hours  gas  natural gas  Jet Fuel  \\\n",
       "1                                     NaN  NaN     0.000436       NaN   \n",
       "2                                     NaN  NaN     0.000872       NaN   \n",
       "3                                     NaN  NaN     0.001074       NaN   \n",
       "4                                     NaN  NaN     0.000598       NaN   \n",
       "5                                0.000199  NaN          NaN       NaN   \n",
       "\n",
       "   waste management  hybrid  electric - peak hours  electric - off peak hours  \\\n",
       "1               NaN     NaN               0.000650                   0.000542   \n",
       "2               NaN     NaN               0.000923                   0.000901   \n",
       "3               NaN     NaN               0.001229                   0.001188   \n",
       "4               NaN     NaN               0.007980                   0.000721   \n",
       "5               NaN     NaN                    NaN                        NaN   \n",
       "\n",
       "   Unnamed: 14 Notes  \n",
       "1          NaN   NaN  \n",
       "2          NaN   NaN  \n",
       "3          NaN   NaN  \n",
       "4          NaN   NaN  \n",
       "5          NaN   NaN  "
      ]
     },
     "execution_count": 7,
     "metadata": {},
     "output_type": "execute_result"
    }
   ],
   "source": [
    "res_carbon_footprint_df.head()"
   ]
  },
  {
   "cell_type": "code",
   "execution_count": 8,
   "metadata": {},
   "outputs": [
    {
     "data": {
      "text/plain": [
       "(27, 15)"
      ]
     },
     "execution_count": 8,
     "metadata": {},
     "output_type": "execute_result"
    }
   ],
   "source": [
    "# Finding the shape of the data frame\n",
    "res_carbon_footprint_df.shape"
   ]
  },
  {
   "cell_type": "code",
   "execution_count": 9,
   "metadata": {},
   "outputs": [],
   "source": [
    "# Deleting the last two columns because they are not needed\n",
    "res_carbon_footprint_df = res_carbon_footprint_df.drop(res_carbon_footprint_df.columns.values[-2:], axis = 1)"
   ]
  },
  {
   "cell_type": "code",
   "execution_count": 10,
   "metadata": {},
   "outputs": [
    {
     "data": {
      "text/html": [
       "<div>\n",
       "<style scoped>\n",
       "    .dataframe tbody tr th:only-of-type {\n",
       "        vertical-align: middle;\n",
       "    }\n",
       "\n",
       "    .dataframe tbody tr th {\n",
       "        vertical-align: top;\n",
       "    }\n",
       "\n",
       "    .dataframe thead th {\n",
       "        text-align: right;\n",
       "    }\n",
       "</style>\n",
       "<table border=\"1\" class=\"dataframe\">\n",
       "  <thead>\n",
       "    <tr style=\"text-align: right;\">\n",
       "      <th></th>\n",
       "      <th>Activity</th>\n",
       "      <th>Per</th>\n",
       "      <th>solar powered  water heater</th>\n",
       "      <th>gas water heater</th>\n",
       "      <th>electric water heater - peak hours</th>\n",
       "      <th>electric water heater - off peak hours</th>\n",
       "      <th>gas</th>\n",
       "      <th>natural gas</th>\n",
       "      <th>Jet Fuel</th>\n",
       "      <th>waste management</th>\n",
       "      <th>hybrid</th>\n",
       "      <th>electric - peak hours</th>\n",
       "      <th>electric - off peak hours</th>\n",
       "    </tr>\n",
       "  </thead>\n",
       "  <tbody>\n",
       "    <tr>\n",
       "      <th>1</th>\n",
       "      <td>Household heating =&gt; 70F</td>\n",
       "      <td>hour</td>\n",
       "      <td>NaN</td>\n",
       "      <td>NaN</td>\n",
       "      <td>NaN</td>\n",
       "      <td>NaN</td>\n",
       "      <td>NaN</td>\n",
       "      <td>0.000436</td>\n",
       "      <td>NaN</td>\n",
       "      <td>NaN</td>\n",
       "      <td>NaN</td>\n",
       "      <td>0.000650</td>\n",
       "      <td>0.000542</td>\n",
       "    </tr>\n",
       "    <tr>\n",
       "      <th>2</th>\n",
       "      <td>Household heating &lt; 70F</td>\n",
       "      <td>hour</td>\n",
       "      <td>NaN</td>\n",
       "      <td>NaN</td>\n",
       "      <td>NaN</td>\n",
       "      <td>NaN</td>\n",
       "      <td>NaN</td>\n",
       "      <td>0.000872</td>\n",
       "      <td>NaN</td>\n",
       "      <td>NaN</td>\n",
       "      <td>NaN</td>\n",
       "      <td>0.000923</td>\n",
       "      <td>0.000901</td>\n",
       "    </tr>\n",
       "    <tr>\n",
       "      <th>3</th>\n",
       "      <td>Use of heat pump</td>\n",
       "      <td>hour</td>\n",
       "      <td>NaN</td>\n",
       "      <td>NaN</td>\n",
       "      <td>NaN</td>\n",
       "      <td>NaN</td>\n",
       "      <td>NaN</td>\n",
       "      <td>0.001074</td>\n",
       "      <td>NaN</td>\n",
       "      <td>NaN</td>\n",
       "      <td>NaN</td>\n",
       "      <td>0.001229</td>\n",
       "      <td>0.001188</td>\n",
       "    </tr>\n",
       "    <tr>\n",
       "      <th>4</th>\n",
       "      <td>Use of air conditioner</td>\n",
       "      <td>hour</td>\n",
       "      <td>NaN</td>\n",
       "      <td>NaN</td>\n",
       "      <td>NaN</td>\n",
       "      <td>NaN</td>\n",
       "      <td>NaN</td>\n",
       "      <td>0.000598</td>\n",
       "      <td>NaN</td>\n",
       "      <td>NaN</td>\n",
       "      <td>NaN</td>\n",
       "      <td>0.007980</td>\n",
       "      <td>0.000721</td>\n",
       "    </tr>\n",
       "    <tr>\n",
       "      <th>5</th>\n",
       "      <td>shower - short</td>\n",
       "      <td>activity</td>\n",
       "      <td>0.000012</td>\n",
       "      <td>0.000102</td>\n",
       "      <td>0.000232</td>\n",
       "      <td>0.000199</td>\n",
       "      <td>NaN</td>\n",
       "      <td>NaN</td>\n",
       "      <td>NaN</td>\n",
       "      <td>NaN</td>\n",
       "      <td>NaN</td>\n",
       "      <td>NaN</td>\n",
       "      <td>NaN</td>\n",
       "    </tr>\n",
       "  </tbody>\n",
       "</table>\n",
       "</div>"
      ],
      "text/plain": [
       "                   Activity       Per  solar powered  water heater  \\\n",
       "1  Household heating => 70F     hour                           NaN   \n",
       "2   Household heating < 70F     hour                           NaN   \n",
       "3          Use of heat pump     hour                           NaN   \n",
       "4   Use of air conditioner      hour                           NaN   \n",
       "5            shower - short  activity                     0.000012   \n",
       "\n",
       "   gas water heater  electric water heater - peak hours  \\\n",
       "1               NaN                                 NaN   \n",
       "2               NaN                                 NaN   \n",
       "3               NaN                                 NaN   \n",
       "4               NaN                                 NaN   \n",
       "5          0.000102                            0.000232   \n",
       "\n",
       "   electric water heater - off peak hours  gas  natural gas  Jet Fuel  \\\n",
       "1                                     NaN  NaN     0.000436       NaN   \n",
       "2                                     NaN  NaN     0.000872       NaN   \n",
       "3                                     NaN  NaN     0.001074       NaN   \n",
       "4                                     NaN  NaN     0.000598       NaN   \n",
       "5                                0.000199  NaN          NaN       NaN   \n",
       "\n",
       "   waste management  hybrid  electric - peak hours  electric - off peak hours  \n",
       "1               NaN     NaN               0.000650                   0.000542  \n",
       "2               NaN     NaN               0.000923                   0.000901  \n",
       "3               NaN     NaN               0.001229                   0.001188  \n",
       "4               NaN     NaN               0.007980                   0.000721  \n",
       "5               NaN     NaN                    NaN                        NaN  "
      ]
     },
     "execution_count": 10,
     "metadata": {},
     "output_type": "execute_result"
    }
   ],
   "source": [
    "res_carbon_footprint_df.head()"
   ]
  },
  {
   "cell_type": "code",
   "execution_count": 16,
   "metadata": {},
   "outputs": [
    {
     "data": {
      "text/plain": [
       "(27, 13)"
      ]
     },
     "execution_count": 16,
     "metadata": {},
     "output_type": "execute_result"
    }
   ],
   "source": [
    "res_carbon_footprint_df.shape"
   ]
  },
  {
   "cell_type": "markdown",
   "metadata": {},
   "source": [
    "### Section 3 - Augmenting Data (Unpivot Dataframe)\n",
    "\n",
    "This section is responsible to convert the data from 2-Dimensional Table Form which compares data of each activity type v/s the type of resource used to a 1-Dimensional Table that lists out the data per activity. This process is like the reverse of pivoting a table."
   ]
  },
  {
   "cell_type": "code",
   "execution_count": 14,
   "metadata": {},
   "outputs": [],
   "source": [
    "# Converting the Dataset from a Big 2 Dimensional Activity v/s Resource Used table to Per Individual focused tabele \n",
    "res_carbon_footprint_table = pd.melt(res_carbon_footprint_df, \n",
    "                                     id_vars=['Activity', 'Per'], \n",
    "                                     value_vars=res_carbon_footprint_df.columns.values[2:], \n",
    "                                     var_name='Name of Resource Used', \n",
    "                                     value_name='Carbon Footprint of Resource per Unit')"
   ]
  },
  {
   "cell_type": "code",
   "execution_count": 15,
   "metadata": {},
   "outputs": [
    {
     "data": {
      "text/html": [
       "<div>\n",
       "<style scoped>\n",
       "    .dataframe tbody tr th:only-of-type {\n",
       "        vertical-align: middle;\n",
       "    }\n",
       "\n",
       "    .dataframe tbody tr th {\n",
       "        vertical-align: top;\n",
       "    }\n",
       "\n",
       "    .dataframe thead th {\n",
       "        text-align: right;\n",
       "    }\n",
       "</style>\n",
       "<table border=\"1\" class=\"dataframe\">\n",
       "  <thead>\n",
       "    <tr style=\"text-align: right;\">\n",
       "      <th></th>\n",
       "      <th>Activity</th>\n",
       "      <th>Per</th>\n",
       "      <th>Name of Resource Used</th>\n",
       "      <th>Carbon Footprint of Resource per Unit</th>\n",
       "    </tr>\n",
       "  </thead>\n",
       "  <tbody>\n",
       "    <tr>\n",
       "      <th>0</th>\n",
       "      <td>Household heating =&gt; 70F</td>\n",
       "      <td>hour</td>\n",
       "      <td>solar powered  water heater</td>\n",
       "      <td>NaN</td>\n",
       "    </tr>\n",
       "    <tr>\n",
       "      <th>1</th>\n",
       "      <td>Household heating &lt; 70F</td>\n",
       "      <td>hour</td>\n",
       "      <td>solar powered  water heater</td>\n",
       "      <td>NaN</td>\n",
       "    </tr>\n",
       "    <tr>\n",
       "      <th>2</th>\n",
       "      <td>Use of heat pump</td>\n",
       "      <td>hour</td>\n",
       "      <td>solar powered  water heater</td>\n",
       "      <td>NaN</td>\n",
       "    </tr>\n",
       "    <tr>\n",
       "      <th>3</th>\n",
       "      <td>Use of air conditioner</td>\n",
       "      <td>hour</td>\n",
       "      <td>solar powered  water heater</td>\n",
       "      <td>NaN</td>\n",
       "    </tr>\n",
       "    <tr>\n",
       "      <th>4</th>\n",
       "      <td>shower - short</td>\n",
       "      <td>activity</td>\n",
       "      <td>solar powered  water heater</td>\n",
       "      <td>0.000012</td>\n",
       "    </tr>\n",
       "  </tbody>\n",
       "</table>\n",
       "</div>"
      ],
      "text/plain": [
       "                   Activity       Per        Name of Resource Used  \\\n",
       "0  Household heating => 70F     hour   solar powered  water heater   \n",
       "1   Household heating < 70F     hour   solar powered  water heater   \n",
       "2          Use of heat pump     hour   solar powered  water heater   \n",
       "3   Use of air conditioner      hour   solar powered  water heater   \n",
       "4            shower - short  activity  solar powered  water heater   \n",
       "\n",
       "   Carbon Footprint of Resource per Unit  \n",
       "0                                    NaN  \n",
       "1                                    NaN  \n",
       "2                                    NaN  \n",
       "3                                    NaN  \n",
       "4                               0.000012  "
      ]
     },
     "execution_count": 15,
     "metadata": {},
     "output_type": "execute_result"
    }
   ],
   "source": [
    "res_carbon_footprint_table.head()"
   ]
  },
  {
   "cell_type": "code",
   "execution_count": 17,
   "metadata": {},
   "outputs": [
    {
     "data": {
      "text/plain": [
       "(297, 4)"
      ]
     },
     "execution_count": 17,
     "metadata": {},
     "output_type": "execute_result"
    }
   ],
   "source": [
    "# Finding the shape of the new table to make sure that no data is lost\n",
    "# The new number of records should be equal to the number of individuals * the number of different resources available.\n",
    "# Here it is equal to - 27 * 11 - 297\n",
    "res_carbon_footprint_table.shape"
   ]
  },
  {
   "cell_type": "markdown",
   "metadata": {},
   "source": [
    "### Section 4 - Handling NaN Values\n",
    "\n",
    "This section is responsible to actually handle/filter the various NaN values present in the Carbon Footprint Column of the table when the dataframe has been melted (unpivoted)"
   ]
  },
  {
   "cell_type": "code",
   "execution_count": 18,
   "metadata": {},
   "outputs": [],
   "source": [
    "# Cleaning the table, by dropping the records where we have NaN values in the column of carbon footprint of resource used per unit\n",
    "res_carbon_footprint_table_drop_na = res_carbon_footprint_table.dropna(axis = 0)"
   ]
  },
  {
   "cell_type": "code",
   "execution_count": 20,
   "metadata": {},
   "outputs": [
    {
     "data": {
      "text/html": [
       "<div>\n",
       "<style scoped>\n",
       "    .dataframe tbody tr th:only-of-type {\n",
       "        vertical-align: middle;\n",
       "    }\n",
       "\n",
       "    .dataframe tbody tr th {\n",
       "        vertical-align: top;\n",
       "    }\n",
       "\n",
       "    .dataframe thead th {\n",
       "        text-align: right;\n",
       "    }\n",
       "</style>\n",
       "<table border=\"1\" class=\"dataframe\">\n",
       "  <thead>\n",
       "    <tr style=\"text-align: right;\">\n",
       "      <th></th>\n",
       "      <th>Activity</th>\n",
       "      <th>Per</th>\n",
       "      <th>Name of Resource Used</th>\n",
       "      <th>Carbon Footprint of Resource per Unit</th>\n",
       "    </tr>\n",
       "  </thead>\n",
       "  <tbody>\n",
       "    <tr>\n",
       "      <th>4</th>\n",
       "      <td>shower - short</td>\n",
       "      <td>activity</td>\n",
       "      <td>solar powered  water heater</td>\n",
       "      <td>0.000012</td>\n",
       "    </tr>\n",
       "    <tr>\n",
       "      <th>5</th>\n",
       "      <td>shower - long (&gt; 3 min)</td>\n",
       "      <td>activity</td>\n",
       "      <td>solar powered  water heater</td>\n",
       "      <td>0.000017</td>\n",
       "    </tr>\n",
       "    <tr>\n",
       "      <th>6</th>\n",
       "      <td>bath</td>\n",
       "      <td>activity</td>\n",
       "      <td>solar powered  water heater</td>\n",
       "      <td>0.000088</td>\n",
       "    </tr>\n",
       "    <tr>\n",
       "      <th>7</th>\n",
       "      <td>wash-up</td>\n",
       "      <td>activity</td>\n",
       "      <td>solar powered  water heater</td>\n",
       "      <td>0.000004</td>\n",
       "    </tr>\n",
       "    <tr>\n",
       "      <th>8</th>\n",
       "      <td>use of dishwasher</td>\n",
       "      <td>activity</td>\n",
       "      <td>solar powered  water heater</td>\n",
       "      <td>0.000025</td>\n",
       "    </tr>\n",
       "    <tr>\n",
       "      <th>9</th>\n",
       "      <td>use of clothes washer</td>\n",
       "      <td>activity</td>\n",
       "      <td>solar powered  water heater</td>\n",
       "      <td>0.000033</td>\n",
       "    </tr>\n",
       "    <tr>\n",
       "      <th>31</th>\n",
       "      <td>shower - short</td>\n",
       "      <td>activity</td>\n",
       "      <td>gas water heater</td>\n",
       "      <td>0.000102</td>\n",
       "    </tr>\n",
       "    <tr>\n",
       "      <th>32</th>\n",
       "      <td>shower - long (&gt; 3 min)</td>\n",
       "      <td>activity</td>\n",
       "      <td>gas water heater</td>\n",
       "      <td>0.000149</td>\n",
       "    </tr>\n",
       "    <tr>\n",
       "      <th>33</th>\n",
       "      <td>bath</td>\n",
       "      <td>activity</td>\n",
       "      <td>gas water heater</td>\n",
       "      <td>0.000254</td>\n",
       "    </tr>\n",
       "    <tr>\n",
       "      <th>34</th>\n",
       "      <td>wash-up</td>\n",
       "      <td>activity</td>\n",
       "      <td>gas water heater</td>\n",
       "      <td>0.000042</td>\n",
       "    </tr>\n",
       "  </tbody>\n",
       "</table>\n",
       "</div>"
      ],
      "text/plain": [
       "                   Activity       Per        Name of Resource Used  \\\n",
       "4            shower - short  activity  solar powered  water heater   \n",
       "5   shower - long (> 3 min)  activity  solar powered  water heater   \n",
       "6                      bath  activity  solar powered  water heater   \n",
       "7                   wash-up  activity  solar powered  water heater   \n",
       "8         use of dishwasher  activity  solar powered  water heater   \n",
       "9     use of clothes washer  activity  solar powered  water heater   \n",
       "31           shower - short  activity             gas water heater   \n",
       "32  shower - long (> 3 min)  activity             gas water heater   \n",
       "33                     bath  activity             gas water heater   \n",
       "34                  wash-up  activity             gas water heater   \n",
       "\n",
       "    Carbon Footprint of Resource per Unit  \n",
       "4                                0.000012  \n",
       "5                                0.000017  \n",
       "6                                0.000088  \n",
       "7                                0.000004  \n",
       "8                                0.000025  \n",
       "9                                0.000033  \n",
       "31                               0.000102  \n",
       "32                               0.000149  \n",
       "33                               0.000254  \n",
       "34                               0.000042  "
      ]
     },
     "execution_count": 20,
     "metadata": {},
     "output_type": "execute_result"
    }
   ],
   "source": [
    "# Make sure the data is as expected\n",
    "res_carbon_footprint_table_drop_na.head(10)"
   ]
  },
  {
   "cell_type": "code",
   "execution_count": 21,
   "metadata": {},
   "outputs": [
    {
     "data": {
      "text/plain": [
       "(76, 4)"
      ]
     },
     "execution_count": 21,
     "metadata": {},
     "output_type": "execute_result"
    }
   ],
   "source": [
    "# Finding the new number of records left after removing NaN Values\n",
    "res_carbon_footprint_table_drop_na.shape"
   ]
  },
  {
   "cell_type": "code",
   "execution_count": 23,
   "metadata": {},
   "outputs": [],
   "source": [
    "# Cleaning the table, by replacing the records where we have NaN values in the column of amount of resource used per unit with 0.0\n",
    "res_carbon_footprint_table_replace_na_zero = res_carbon_footprint_table\n",
    "res_carbon_footprint_table_replace_na_zero['Carbon Footprint of Resource per Unit'] = np.nan_to_num(res_carbon_footprint_table_replace_na_zero['Carbon Footprint of Resource per Unit'])"
   ]
  },
  {
   "cell_type": "code",
   "execution_count": 24,
   "metadata": {},
   "outputs": [
    {
     "data": {
      "text/html": [
       "<div>\n",
       "<style scoped>\n",
       "    .dataframe tbody tr th:only-of-type {\n",
       "        vertical-align: middle;\n",
       "    }\n",
       "\n",
       "    .dataframe tbody tr th {\n",
       "        vertical-align: top;\n",
       "    }\n",
       "\n",
       "    .dataframe thead th {\n",
       "        text-align: right;\n",
       "    }\n",
       "</style>\n",
       "<table border=\"1\" class=\"dataframe\">\n",
       "  <thead>\n",
       "    <tr style=\"text-align: right;\">\n",
       "      <th></th>\n",
       "      <th>Activity</th>\n",
       "      <th>Per</th>\n",
       "      <th>Name of Resource Used</th>\n",
       "      <th>Carbon Footprint of Resource per Unit</th>\n",
       "    </tr>\n",
       "  </thead>\n",
       "  <tbody>\n",
       "    <tr>\n",
       "      <th>0</th>\n",
       "      <td>Household heating =&gt; 70F</td>\n",
       "      <td>hour</td>\n",
       "      <td>solar powered  water heater</td>\n",
       "      <td>0.000000</td>\n",
       "    </tr>\n",
       "    <tr>\n",
       "      <th>1</th>\n",
       "      <td>Household heating &lt; 70F</td>\n",
       "      <td>hour</td>\n",
       "      <td>solar powered  water heater</td>\n",
       "      <td>0.000000</td>\n",
       "    </tr>\n",
       "    <tr>\n",
       "      <th>2</th>\n",
       "      <td>Use of heat pump</td>\n",
       "      <td>hour</td>\n",
       "      <td>solar powered  water heater</td>\n",
       "      <td>0.000000</td>\n",
       "    </tr>\n",
       "    <tr>\n",
       "      <th>3</th>\n",
       "      <td>Use of air conditioner</td>\n",
       "      <td>hour</td>\n",
       "      <td>solar powered  water heater</td>\n",
       "      <td>0.000000</td>\n",
       "    </tr>\n",
       "    <tr>\n",
       "      <th>4</th>\n",
       "      <td>shower - short</td>\n",
       "      <td>activity</td>\n",
       "      <td>solar powered  water heater</td>\n",
       "      <td>0.000012</td>\n",
       "    </tr>\n",
       "  </tbody>\n",
       "</table>\n",
       "</div>"
      ],
      "text/plain": [
       "                   Activity       Per        Name of Resource Used  \\\n",
       "0  Household heating => 70F     hour   solar powered  water heater   \n",
       "1   Household heating < 70F     hour   solar powered  water heater   \n",
       "2          Use of heat pump     hour   solar powered  water heater   \n",
       "3   Use of air conditioner      hour   solar powered  water heater   \n",
       "4            shower - short  activity  solar powered  water heater   \n",
       "\n",
       "   Carbon Footprint of Resource per Unit  \n",
       "0                               0.000000  \n",
       "1                               0.000000  \n",
       "2                               0.000000  \n",
       "3                               0.000000  \n",
       "4                               0.000012  "
      ]
     },
     "execution_count": 24,
     "metadata": {},
     "output_type": "execute_result"
    }
   ],
   "source": [
    "# Make sure the data is as expected\n",
    "res_carbon_footprint_table_replace_na_zero.head()"
   ]
  },
  {
   "cell_type": "code",
   "execution_count": 25,
   "metadata": {},
   "outputs": [
    {
     "data": {
      "text/plain": [
       "(297, 4)"
      ]
     },
     "execution_count": 25,
     "metadata": {},
     "output_type": "execute_result"
    }
   ],
   "source": [
    "# Making sure that no record is dropped\n",
    "res_carbon_footprint_table_replace_na_zero.shape"
   ]
  },
  {
   "cell_type": "markdown",
   "metadata": {},
   "source": [
    "### Section 5 - Saving the Tables\n",
    "\n",
    "This section is used to save the tables generated into csv files as part of saving data as we clean and filter it."
   ]
  },
  {
   "cell_type": "code",
   "execution_count": 26,
   "metadata": {},
   "outputs": [],
   "source": [
    "# Saving these data_frames into csv_files\n",
    "res_carbon_footprint_table_drop_na.to_csv(r'../../data/output_data/Resources_Carbon_Footprint_NA_Dropped.csv', index=False)\n",
    "res_carbon_footprint_table_replace_na_zero.to_csv(r'../../data/output_data/Resources_Carbon_Footprint_NA_Zeroed.csv', index=False)"
   ]
  }
 ],
 "metadata": {
  "kernelspec": {
   "display_name": "Python 3",
   "language": "python",
   "name": "python3"
  },
  "language_info": {
   "codemirror_mode": {
    "name": "ipython",
    "version": 3
   },
   "file_extension": ".py",
   "mimetype": "text/x-python",
   "name": "python",
   "nbconvert_exporter": "python",
   "pygments_lexer": "ipython3",
   "version": "3.6.4"
  }
 },
 "nbformat": 4,
 "nbformat_minor": 2
}
