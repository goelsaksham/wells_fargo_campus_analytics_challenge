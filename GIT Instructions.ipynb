{
 "cells": [
  {
   "cell_type": "code",
   "execution_count": 10,
   "metadata": {},
   "outputs": [
    {
     "name": "stdout",
     "output_type": "stream",
     "text": [
      "Already up-to-date.\n"
     ]
    }
   ],
   "source": [
    "!git pull"
   ]
  },
  {
   "cell_type": "code",
   "execution_count": 11,
   "metadata": {},
   "outputs": [
    {
     "name": "stdout",
     "output_type": "stream",
     "text": [
      "On branch master\n",
      "Your branch is up-to-date with 'origin/master'.\n",
      "\n",
      "Changes not staged for commit:\n",
      "  (use \"git add/rm <file>...\" to update what will be committed)\n",
      "  (use \"git checkout -- <file>...\" to discard changes in working directory)\n",
      "\n",
      "\tmodified:   GIT Instructions.ipynb\n",
      "\tdeleted:    data/input_data/Carboon_Footprint_Table.csv\n",
      "\tdeleted:    data/input_data/Individual_Data.csv\n",
      "\tdeleted:    data/output_data/Carboon_Footprint_Table.csv\n",
      "\tdeleted:    data/output_data/Individual_Data.csv\n",
      "\n",
      "Untracked files:\n",
      "  (use \"git add <file>...\" to include in what will be committed)\n",
      "\n",
      "\tdata/output_data/Individuals_Carbon_Footprint_NA_Dropped.csv\n",
      "\tdata/output_data/Individuals_Carbon_Footprint_NA_Zeroed.csv\n",
      "\tsrc/notebooks/Individual_Person_Carbon_Footprint_Data_Cleaner.ipynb\n",
      "\n",
      "no changes added to commit (use \"git add\" and/or \"git commit -a\")\n"
     ]
    }
   ],
   "source": [
    "!git status"
   ]
  },
  {
   "cell_type": "code",
   "execution_count": 12,
   "metadata": {},
   "outputs": [
    {
     "name": "stderr",
     "output_type": "stream",
     "text": [
      "warning: LF will be replaced by CRLF in GIT Instructions.ipynb.\n",
      "The file will have its original line endings in your working directory.\n",
      "warning: LF will be replaced by CRLF in src/notebooks/Individual_Person_Carbon_Footprint_Data_Cleaner.ipynb.\n",
      "The file will have its original line endings in your working directory.\n"
     ]
    }
   ],
   "source": [
    "!git add ."
   ]
  },
  {
   "cell_type": "code",
   "execution_count": 13,
   "metadata": {},
   "outputs": [
    {
     "name": "stdout",
     "output_type": "stream",
     "text": [
      "[master 149d674] Changed Data Representation of the Individuals Carbon Footprint Dataset\n",
      " 8 files changed, 280441 insertions(+), 54541 deletions(-)\n",
      " delete mode 100644 data/input_data/Carboon_Footprint_Table.csv\n",
      " delete mode 100644 data/input_data/Individual_Data.csv\n",
      " delete mode 100644 data/output_data/Carboon_Footprint_Table.csv\n",
      " delete mode 100644 data/output_data/Individual_Data.csv\n",
      " create mode 100644 data/output_data/Individuals_Carbon_Footprint_NA_Dropped.csv\n",
      " create mode 100644 data/output_data/Individuals_Carbon_Footprint_NA_Zeroed.csv\n",
      " create mode 100644 src/notebooks/Individual_Person_Carbon_Footprint_Data_Cleaner.ipynb\n"
     ]
    }
   ],
   "source": [
    "!git commit -m \"Changed Data Representation of the Individuals Carbon Footprint Dataset\""
   ]
  },
  {
   "cell_type": "code",
   "execution_count": 14,
   "metadata": {},
   "outputs": [
    {
     "name": "stderr",
     "output_type": "stream",
     "text": [
      "fatal: HttpRequestException encountered.\n",
      "   An error occurred while sending the request.\n",
      "To https://github.com/goelsaksham/wells_fargo_campus_analytics_challenge.git\n",
      "   52432b8..149d674  master -> master\n"
     ]
    }
   ],
   "source": [
    "!git push"
   ]
  },
  {
   "cell_type": "code",
   "execution_count": null,
   "metadata": {},
   "outputs": [],
   "source": []
  }
 ],
 "metadata": {
  "kernelspec": {
   "display_name": "Python 3",
   "language": "python",
   "name": "python3"
  },
  "language_info": {
   "codemirror_mode": {
    "name": "ipython",
    "version": 3
   },
   "file_extension": ".py",
   "mimetype": "text/x-python",
   "name": "python",
   "nbconvert_exporter": "python",
   "pygments_lexer": "ipython3",
   "version": "3.6.4"
  }
 },
 "nbformat": 4,
 "nbformat_minor": 2
}
