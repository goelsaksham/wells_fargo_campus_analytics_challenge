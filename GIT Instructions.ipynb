{
 "cells": [
  {
   "cell_type": "code",
   "execution_count": 3,
   "metadata": {},
   "outputs": [
    {
     "name": "stdout",
     "output_type": "stream",
     "text": [
      "Already up-to-date.\n"
     ]
    }
   ],
   "source": [
    "!git pull"
   ]
  },
  {
   "cell_type": "code",
   "execution_count": 4,
   "metadata": {},
   "outputs": [
    {
     "name": "stdout",
     "output_type": "stream",
     "text": [
      "On branch master\n",
      "Your branch is up-to-date with 'origin/master'.\n",
      "\n",
      "Changes to be committed:\n",
      "  (use \"git reset HEAD <file>...\" to unstage)\n",
      "\n",
      "\tnew file:   GIT Instructions.ipynb\n",
      "\tnew file:   data/input_data/Carboon_Footprint_Table.csv\n",
      "\tnew file:   data/input_data/Individual_Data.csv\n",
      "\tnew file:   data/output_data/Carboon_Footprint_Table.csv\n",
      "\tnew file:   data/output_data/Individual_Data.csv\n",
      "\tmodified:   src/notebooks/Data-Loader.ipynb\n",
      "\n"
     ]
    }
   ],
   "source": [
    "!git status"
   ]
  },
  {
   "cell_type": "code",
   "execution_count": 5,
   "metadata": {},
   "outputs": [],
   "source": [
    "!git add ."
   ]
  },
  {
   "cell_type": "code",
   "execution_count": 7,
   "metadata": {},
   "outputs": [
    {
     "name": "stdout",
     "output_type": "stream",
     "text": [
      "[master 52432b8] Adding stuff\n",
      " 6 files changed, 54686 insertions(+), 741 deletions(-)\n",
      " create mode 100644 GIT Instructions.ipynb\n",
      " create mode 100644 data/input_data/Carboon_Footprint_Table.csv\n",
      " create mode 100644 data/input_data/Individual_Data.csv\n",
      " create mode 100644 data/output_data/Carboon_Footprint_Table.csv\n",
      " create mode 100644 data/output_data/Individual_Data.csv\n"
     ]
    }
   ],
   "source": [
    "!git commit -m \"Adding stuff\""
   ]
  },
  {
   "cell_type": "code",
   "execution_count": 9,
   "metadata": {},
   "outputs": [
    {
     "name": "stderr",
     "output_type": "stream",
     "text": [
      "fatal: HttpRequestException encountered.\n",
      "   An error occurred while sending the request.\n",
      "To https://github.com/goelsaksham/wells_fargo_campus_analytics_challenge.git\n",
      "   fd3dfe5..52432b8  master -> master\n"
     ]
    }
   ],
   "source": [
    "!git push"
   ]
  }
 ],
 "metadata": {
  "kernelspec": {
   "display_name": "Python 3",
   "language": "python",
   "name": "python3"
  },
  "language_info": {
   "codemirror_mode": {
    "name": "ipython",
    "version": 3
   },
   "file_extension": ".py",
   "mimetype": "text/x-python",
   "name": "python",
   "nbconvert_exporter": "python",
   "pygments_lexer": "ipython3",
   "version": "3.6.4"
  }
 },
 "nbformat": 4,
 "nbformat_minor": 2
}
